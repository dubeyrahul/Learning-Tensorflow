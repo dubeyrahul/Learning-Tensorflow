{
 "cells": [
  {
   "cell_type": "markdown",
   "metadata": {
    "deletable": true,
    "editable": true
   },
   "source": [
    "## Defining and creating tensors"
   ]
  },
  {
   "cell_type": "code",
   "execution_count": 1,
   "metadata": {
    "collapsed": true,
    "deletable": true,
    "editable": true
   },
   "outputs": [],
   "source": [
    "import tensorflow as tf\n",
    "import numpy as np"
   ]
  },
  {
   "cell_type": "code",
   "execution_count": 2,
   "metadata": {
    "collapsed": true,
    "deletable": true,
    "editable": true
   },
   "outputs": [],
   "source": [
    "m1 = [[1.0, 2.0, 3.0],[4.0, 5.0, 6.0]]\n",
    "m2 = np.array([[1.0, 2.0],[3.0, 4.0]], dtype=np.float32)\n",
    "m3 = tf.constant([[1.0, 2.0, 3.0],[4.0, 5.0, 6.0]])"
   ]
  },
  {
   "cell_type": "code",
   "execution_count": 3,
   "metadata": {
    "collapsed": false,
    "deletable": true,
    "editable": true
   },
   "outputs": [
    {
     "name": "stdout",
     "output_type": "stream",
     "text": [
      "<type 'list'>\n",
      "<type 'numpy.ndarray'>\n",
      "<class 'tensorflow.python.framework.ops.Tensor'>\n"
     ]
    }
   ],
   "source": [
    "print type(m1)\n",
    "print type(m2)\n",
    "print type(m3)"
   ]
  },
  {
   "cell_type": "code",
   "execution_count": 4,
   "metadata": {
    "collapsed": true,
    "deletable": true,
    "editable": true
   },
   "outputs": [],
   "source": [
    "t1 = tf.convert_to_tensor(m1, dtype=tf.float32)\n",
    "t2 = tf.convert_to_tensor(m2, dtype=tf.float32)\n",
    "t3 = tf.convert_to_tensor(m3, dtype=tf.float32)"
   ]
  },
  {
   "cell_type": "code",
   "execution_count": 5,
   "metadata": {
    "collapsed": false,
    "deletable": true,
    "editable": true
   },
   "outputs": [
    {
     "name": "stdout",
     "output_type": "stream",
     "text": [
      "<class 'tensorflow.python.framework.ops.Tensor'>\n",
      "<class 'tensorflow.python.framework.ops.Tensor'>\n",
      "<class 'tensorflow.python.framework.ops.Tensor'>\n"
     ]
    }
   ],
   "source": [
    "print type(t1)\n",
    "print type(t2)\n",
    "print type(t3)"
   ]
  },
  {
   "cell_type": "markdown",
   "metadata": {
    "deletable": true,
    "editable": true
   },
   "source": [
    "### All operations in Tensorflow work on these tensors, and all inbuilt methods usually do use tf.convert_to_tensor to convert the data type to tensors before manipulating them."
   ]
  },
  {
   "cell_type": "code",
   "execution_count": 6,
   "metadata": {
    "collapsed": true,
    "deletable": true,
    "editable": true
   },
   "outputs": [],
   "source": [
    "m1 = tf.constant([[1., 2.]], name='m1')\n",
    "m2 = tf.constant([[1],[2]], name='m2')\n",
    "m3 = tf.constant([ [1,2], [3,4], [5,6], [7,8], [9,10]])"
   ]
  },
  {
   "cell_type": "code",
   "execution_count": 7,
   "metadata": {
    "collapsed": false,
    "deletable": true,
    "editable": true
   },
   "outputs": [
    {
     "name": "stdout",
     "output_type": "stream",
     "text": [
      "Tensor(\"m1:0\", shape=(1, 2), dtype=float32)\n",
      "Tensor(\"m2:0\", shape=(2, 1), dtype=int32)\n",
      "Tensor(\"Const_3:0\", shape=(5, 2), dtype=int32)\n"
     ]
    }
   ],
   "source": [
    "print m1\n",
    "print m2\n",
    "print m3"
   ]
  },
  {
   "cell_type": "markdown",
   "metadata": {
    "deletable": true,
    "editable": true
   },
   "source": [
    "### Each tensor object has a unique label name, a dimension shape, and dtype. Since we did not explicitly specify a name for the last tensor, it got name like Const_x:0, etc."
   ]
  },
  {
   "cell_type": "markdown",
   "metadata": {
    "deletable": true,
    "editable": true
   },
   "source": [
    "### Let's create a tensor of 500 x 500, each element having a value of 0.5"
   ]
  },
  {
   "cell_type": "code",
   "execution_count": 8,
   "metadata": {
    "collapsed": false,
    "deletable": true,
    "editable": true
   },
   "outputs": [
    {
     "name": "stdout",
     "output_type": "stream",
     "text": [
      "Tensor(\"div:0\", shape=(500, 500), dtype=float32)\n"
     ]
    }
   ],
   "source": [
    "all_half = tf.ones([500,500])/2.0\n",
    "print all_half"
   ]
  },
  {
   "cell_type": "markdown",
   "metadata": {
    "deletable": true,
    "editable": true
   },
   "source": [
    "## Manipulating tensors with operators"
   ]
  },
  {
   "cell_type": "code",
   "execution_count": 9,
   "metadata": {
    "collapsed": true,
    "deletable": true,
    "editable": true
   },
   "outputs": [],
   "source": [
    "x = tf.constant([[1,2]], dtype=tf.float32)"
   ]
  },
  {
   "cell_type": "code",
   "execution_count": 10,
   "metadata": {
    "collapsed": false,
    "deletable": true,
    "editable": true
   },
   "outputs": [
    {
     "data": {
      "text/plain": [
       "<tf.Tensor 'Const_4:0' shape=(1, 2) dtype=float32>"
      ]
     },
     "execution_count": 10,
     "metadata": {},
     "output_type": "execute_result"
    }
   ],
   "source": [
    "x"
   ]
  },
  {
   "cell_type": "code",
   "execution_count": 11,
   "metadata": {
    "collapsed": false,
    "deletable": true,
    "editable": true
   },
   "outputs": [
    {
     "name": "stdout",
     "output_type": "stream",
     "text": [
      "Tensor(\"Neg:0\", shape=(1, 2), dtype=float32)\n"
     ]
    }
   ],
   "source": [
    "neg_x = tf.negative(x)\n",
    "print neg_x"
   ]
  },
  {
   "cell_type": "markdown",
   "metadata": {
    "deletable": true,
    "editable": true
   },
   "source": [
    "### Creating a normal distribution"
   ]
  },
  {
   "cell_type": "code",
   "execution_count": 12,
   "metadata": {
    "collapsed": false,
    "deletable": true,
    "editable": true
   },
   "outputs": [],
   "source": [
    "from math import pi\n",
    "mu = 0.0\n",
    "sigma = 1.0\n",
    "# Gaussian distribution operator\n",
    "normal_dist = tf.exp(tf.negative(tf.pow((x - mu), 2))/(2.0*tf.pow(sigma, 2)))*\\\n",
    "            (1.0/ sigma*tf.sqrt(2.0*pi))"
   ]
  },
  {
   "cell_type": "code",
   "execution_count": 13,
   "metadata": {
    "collapsed": false,
    "deletable": true,
    "editable": true
   },
   "outputs": [
    {
     "name": "stdout",
     "output_type": "stream",
     "text": [
      "[[-1. -2.]]\n"
     ]
    }
   ],
   "source": [
    "with tf.Session() as sess:\n",
    "    result = sess.run(tf.negative(x))\n",
    "    print(result)"
   ]
  },
  {
   "cell_type": "markdown",
   "metadata": {
    "collapsed": true,
    "deletable": true,
    "editable": true
   },
   "source": [
    "### Starting an interactive session so that session variable is not needed everytime we want to evaluate something"
   ]
  },
  {
   "cell_type": "code",
   "execution_count": 14,
   "metadata": {
    "collapsed": false,
    "deletable": true,
    "editable": true
   },
   "outputs": [
    {
     "name": "stdout",
     "output_type": "stream",
     "text": [
      "[[-1. -2.]]\n"
     ]
    }
   ],
   "source": [
    "sess = tf.InteractiveSession()\n",
    "result = neg_x.eval()\n",
    "print result\n",
    "sess.close()"
   ]
  },
  {
   "cell_type": "markdown",
   "metadata": {
    "deletable": true,
    "editable": true
   },
   "source": [
    "### Passing logging parameter in Session"
   ]
  },
  {
   "cell_type": "code",
   "execution_count": 15,
   "metadata": {
    "collapsed": false,
    "deletable": true,
    "editable": true
   },
   "outputs": [
    {
     "name": "stdout",
     "output_type": "stream",
     "text": [
      "<bound method Graph.device of <tensorflow.python.framework.ops.Graph object at 0x7f159785cf90>>\n",
      "[[-1. -2.]]\n"
     ]
    }
   ],
   "source": [
    "with tf.Session(config= tf.ConfigProto(log_device_placement=True)) as sess:\n",
    "    result = sess.run(neg_x)\n",
    "    print sess.graph.device\n",
    "print (result)"
   ]
  },
  {
   "cell_type": "markdown",
   "metadata": {
    "deletable": true,
    "editable": true
   },
   "source": [
    "## Using variables"
   ]
  },
  {
   "cell_type": "markdown",
   "metadata": {
    "deletable": true,
    "editable": true
   },
   "source": [
    "### A simple way of detecting spikes using a \"spike\" boolean variable"
   ]
  },
  {
   "cell_type": "code",
   "execution_count": 16,
   "metadata": {
    "collapsed": false,
    "deletable": true,
    "editable": true
   },
   "outputs": [
    {
     "name": "stdout",
     "output_type": "stream",
     "text": [
      "('Spike: ', False)\n",
      "('Spike: ', True)\n",
      "('Spike: ', False)\n",
      "('Spike: ', False)\n",
      "('Spike: ', True)\n",
      "('Spike: ', False)\n",
      "('Spike: ', True)\n"
     ]
    }
   ],
   "source": [
    "sess = tf.InteractiveSession()\n",
    "raw_data = [1., 2., 8., -1., 0., 5.5, 6., 13]\n",
    "spike = tf.Variable(False)\n",
    "spike.initializer.run()\n",
    "\n",
    "for i in range(1, len(raw_data)):\n",
    "    if raw_data[i] - raw_data[i-1] > 5:\n",
    "        updater = tf.assign(spike, True)\n",
    "        updater.eval()\n",
    "    else:\n",
    "        tf.assign(spike, False).eval()\n",
    "    print (\"Spike: \", spike.eval())\n",
    "sess.close()"
   ]
  },
  {
   "cell_type": "markdown",
   "metadata": {
    "deletable": true,
    "editable": true
   },
   "source": [
    "### Storing spike's result in an array of booleans"
   ]
  },
  {
   "cell_type": "code",
   "execution_count": 17,
   "metadata": {
    "collapsed": false,
    "deletable": true,
    "editable": true
   },
   "outputs": [
    {
     "name": "stdout",
     "output_type": "stream",
     "text": [
      "WARNING:tensorflow:From <ipython-input-17-aad5adca92e8>:5: initialize_all_variables (from tensorflow.python.ops.variables) is deprecated and will be removed after 2017-03-02.\n",
      "Instructions for updating:\n",
      "Use `tf.global_variables_initializer` instead.\n",
      "Tensor(\"spikes/read:0\", shape=(8,), dtype=bool)\n",
      "spikes data saved in file: spikes.ckpt\n"
     ]
    }
   ],
   "source": [
    "sess = tf.InteractiveSession()\n",
    "raw_data = [1., 2., 8., -1., 0., 5.5, 6., 13]\n",
    "spikes = tf.Variable([False] * len(raw_data), name='spikes')\n",
    "spikes.initializer.run()\n",
    "tf.initialize_all_variables().run()\n",
    "print spikes\n",
    "# saver = tf.train.Saver()\n",
    "saver = tf.train.Saver(write_version=tf.train.SaverDef.V2)\n",
    "for i in range(1, len(raw_data)):\n",
    "    if raw_data[i] - raw_data[i-1] > 5:\n",
    "        spikes_val = spikes.eval()\n",
    "        spikes_val[i] = True\n",
    "        updater = tf.assign(spikes, spikes_val)\n",
    "        updater.eval()\n",
    "save_path = saver.save(sess, \"spikes.ckpt\")\n",
    "print(\"spikes data saved in file: %s\" % save_path)\n",
    "sess.close()"
   ]
  },
  {
   "cell_type": "markdown",
   "metadata": {
    "deletable": true,
    "editable": true
   },
   "source": [
    "### Loading the variable back using 'restore' (Why is this not working?)"
   ]
  },
  {
   "cell_type": "code",
   "execution_count": 18,
   "metadata": {
    "collapsed": false,
    "deletable": true,
    "editable": true
   },
   "outputs": [],
   "source": [
    "# sess = tf.InteractiveSession()\n",
    "# spikes = tf.Variable([False]*8, name='spikes')\n",
    "# # spikes.initializer.run() // No need to intialize this as it will be directly loaded from a file\n",
    "# % ls\n",
    "# saver = tf.train.Saver(write_version=tf.train.SaverDef.V2)\n",
    "# saver.restore(sess,  \"./spikes.ckpt\")\n",
    "# # print (spikes.eval())\n",
    "# sess.close()"
   ]
  },
  {
   "cell_type": "markdown",
   "metadata": {
    "deletable": true,
    "editable": true
   },
   "source": [
    "## Visualizing using TensorBoard"
   ]
  },
  {
   "cell_type": "markdown",
   "metadata": {
    "deletable": true,
    "editable": true
   },
   "source": [
    "### Exponetial average computation"
   ]
  },
  {
   "cell_type": "code",
   "execution_count": 19,
   "metadata": {
    "collapsed": false,
    "deletable": true,
    "editable": true
   },
   "outputs": [
    {
     "name": "stdout",
     "output_type": "stream",
     "text": [
      "(8.8800489750340521, 0.44400245)\n",
      "(9.7694742352608799, 0.91027606)\n",
      "(11.40535558763948, 1.43503)\n",
      "(8.3150537587015734, 1.7790313)\n",
      "(10.325360959060404, 2.2063477)\n",
      "(8.9661082070697304, 2.5443356)\n",
      "(10.510751253048543, 2.9426565)\n",
      "(10.396789158540059, 3.3153632)\n",
      "(7.5562475292470843, 3.5274074)\n",
      "(11.026650185486346, 3.9023695)\n",
      "(9.9460384858335082, 4.2045531)\n",
      "(10.204471753083192, 4.504549)\n",
      "(9.8253066421865789, 4.770587)\n",
      "(10.727404460444887, 5.068428)\n",
      "(10.683146347238683, 5.349164)\n",
      "(10.145887432381031, 5.5889997)\n",
      "(9.9559561271761527, 5.8073478)\n",
      "(9.0681759310577394, 5.9703889)\n",
      "(8.9920922789490643, 6.1214738)\n",
      "(9.405991007956402, 6.2856998)\n",
      "(10.449226938890156, 6.493876)\n",
      "(10.671681547347607, 6.7027664)\n",
      "(8.7153621778433941, 6.8033962)\n",
      "(9.3220451377305, 6.9293284)\n",
      "(11.829598464381851, 7.1743417)\n",
      "(10.933151906122243, 7.3622823)\n",
      "(11.433676799385111, 7.5658522)\n",
      "(10.122640867835576, 7.6936917)\n",
      "(9.7154825671915894, 7.7947812)\n",
      "(10.447503989899868, 7.9274173)\n",
      "(9.6732473835399215, 8.0147085)\n",
      "(10.089888981784675, 8.1184673)\n",
      "(10.131197026104459, 8.2191038)\n",
      "(10.894014415871323, 8.352849)\n",
      "(10.815475644849787, 8.4759798)\n",
      "(7.5828738381798937, 8.431324)\n",
      "(9.9045580146378551, 8.5049858)\n",
      "(9.4767198434313205, 8.5535727)\n",
      "(9.612547889226736, 8.6065207)\n",
      "(10.199430565332527, 8.6861658)\n",
      "(9.9738180082951544, 8.7505484)\n",
      "(9.3134442082428439, 8.7786932)\n",
      "(9.0883955822495039, 8.794179)\n",
      "(10.040557516301519, 8.8564978)\n",
      "(8.7689401168537042, 8.8521194)\n",
      "(10.559660243935568, 8.9374962)\n",
      "(10.377210959313125, 9.0094824)\n",
      "(10.860815558528238, 9.1020498)\n",
      "(9.7400683307426483, 9.1339502)\n",
      "(8.2931138940765035, 9.0919085)\n",
      "(9.773974797127984, 9.1260118)\n",
      "(11.680364479358584, 9.2537289)\n",
      "(9.1767063922914218, 9.2498779)\n",
      "(9.5206544626811294, 9.2634163)\n",
      "(8.1611384315393671, 9.2083025)\n",
      "(9.9940016529860198, 9.2475872)\n",
      "(11.718380865487534, 9.3711271)\n",
      "(9.0704018325542943, 9.3560905)\n",
      "(10.285125507464928, 9.4025421)\n",
      "(11.186317654317666, 9.4917307)\n",
      "(10.445321630777851, 9.5394106)\n",
      "(8.9073828534333899, 9.5078087)\n",
      "(11.72584732345141, 9.6187105)\n",
      "(8.5079105421663144, 9.5631704)\n",
      "(12.303020428880547, 9.7001629)\n",
      "(9.8009383505120304, 9.7052011)\n",
      "(9.7425139996261176, 9.7070665)\n",
      "(10.311488638668171, 9.7372875)\n",
      "(11.704102401982544, 9.8356285)\n",
      "(8.8961647357465576, 9.7886553)\n",
      "(9.2199195335101152, 9.7602177)\n",
      "(9.8442432785899836, 9.7644186)\n",
      "(9.7625920848755321, 9.764327)\n",
      "(9.2066269356537429, 9.7364416)\n",
      "(9.6631266539630865, 9.7327757)\n",
      "(9.4437267560077185, 9.7183228)\n",
      "(10.072675317790472, 9.7360401)\n",
      "(9.1533016356759056, 9.7069035)\n",
      "(9.5481961049361566, 9.6989679)\n",
      "(9.766232669622859, 9.7023315)\n",
      "(9.5007652761350574, 9.6922531)\n",
      "(10.7141001933194, 9.7433453)\n",
      "(9.7863740278634594, 9.7454967)\n",
      "(12.397255595980159, 9.8780842)\n",
      "(10.329564015614157, 9.9006586)\n",
      "(11.721858904143925, 9.9917183)\n",
      "(10.938083572791488, 10.039037)\n",
      "(9.0324552382205656, 9.9887075)\n",
      "(9.5287194111121458, 9.9657078)\n",
      "(10.082311629992512, 9.9715385)\n",
      "(7.3814438389690142, 9.8420334)\n",
      "(10.302047878496904, 9.8650341)\n",
      "(10.58348981957182, 9.9009571)\n",
      "(10.490261448038455, 9.9304228)\n",
      "(10.502843005349844, 9.9590435)\n",
      "(10.916290973697409, 10.006906)\n",
      "(10.292782423376492, 10.021199)\n",
      "(8.8737784326154845, 9.9638281)\n",
      "(10.817991209540246, 10.006536)\n",
      "(8.9847711558159151, 9.9554472)\n"
     ]
    }
   ],
   "source": [
    "raw_data = np.random.normal(10, 1, 100)\n",
    "alpha = tf.constant(0.05)\n",
    "curr_value = tf.placeholder(tf.float32)\n",
    "prev_avg = tf.Variable(0.)\n",
    "update_avg = curr_value*alpha + (1-alpha)*prev_avg\n",
    "\n",
    "# Defining summary variables to visualize on tensorboard\n",
    "avg_hist = tf.summary.scalar(\"running_average\", update_avg)\n",
    "value_hist = tf.summary.scalar(\"incoming_values\", curr_value)\n",
    "merged = tf.summary.merge_all()\n",
    "writer = tf.summary.FileWriter(\"./logs\")\n",
    "init = tf.global_variables_initializer()\n",
    "with tf.Session() as sess:\n",
    "    sess.run(init)\n",
    "    for i in range(len(raw_data)):\n",
    "        summary_str, curr_avg = sess.run([merged, update_avg], feed_dict={curr_value: raw_data[i]})\n",
    "        sess.run(tf.assign(prev_avg, curr_avg))\n",
    "        print (raw_data[i], curr_avg)\n",
    "        writer.add_summary(summary_str, i)"
   ]
  },
  {
   "cell_type": "code",
   "execution_count": 20,
   "metadata": {
    "collapsed": false,
    "deletable": true,
    "editable": true
   },
   "outputs": [
    {
     "data": {
      "text/plain": [
       "array([  8.88004898,   9.76947424,  11.40535559,   8.31505376,\n",
       "        10.32536096,   8.96610821,  10.51075125,  10.39678916,\n",
       "         7.55624753,  11.02665019,   9.94603849,  10.20447175,\n",
       "         9.82530664,  10.72740446,  10.68314635,  10.14588743,\n",
       "         9.95595613,   9.06817593,   8.99209228,   9.40599101,\n",
       "        10.44922694,  10.67168155,   8.71536218,   9.32204514,\n",
       "        11.82959846,  10.93315191,  11.4336768 ,  10.12264087,\n",
       "         9.71548257,  10.44750399,   9.67324738,  10.08988898,\n",
       "        10.13119703,  10.89401442,  10.81547564,   7.58287384,\n",
       "         9.90455801,   9.47671984,   9.61254789,  10.19943057,\n",
       "         9.97381801,   9.31344421,   9.08839558,  10.04055752,\n",
       "         8.76894012,  10.55966024,  10.37721096,  10.86081556,\n",
       "         9.74006833,   8.29311389,   9.7739748 ,  11.68036448,\n",
       "         9.17670639,   9.52065446,   8.16113843,   9.99400165,\n",
       "        11.71838087,   9.07040183,  10.28512551,  11.18631765,\n",
       "        10.44532163,   8.90738285,  11.72584732,   8.50791054,\n",
       "        12.30302043,   9.80093835,   9.742514  ,  10.31148864,\n",
       "        11.7041024 ,   8.89616474,   9.21991953,   9.84424328,\n",
       "         9.76259208,   9.20662694,   9.66312665,   9.44372676,\n",
       "        10.07267532,   9.15330164,   9.5481961 ,   9.76623267,\n",
       "         9.50076528,  10.71410019,   9.78637403,  12.3972556 ,\n",
       "        10.32956402,  11.7218589 ,  10.93808357,   9.03245524,\n",
       "         9.52871941,  10.08231163,   7.38144384,  10.30204788,\n",
       "        10.58348982,  10.49026145,  10.50284301,  10.91629097,\n",
       "        10.29278242,   8.87377843,  10.81799121,   8.98477116])"
      ]
     },
     "execution_count": 20,
     "metadata": {},
     "output_type": "execute_result"
    }
   ],
   "source": [
    "raw_data"
   ]
  },
  {
   "cell_type": "code",
   "execution_count": null,
   "metadata": {
    "collapsed": true,
    "deletable": true,
    "editable": true
   },
   "outputs": [],
   "source": []
  },
  {
   "cell_type": "code",
   "execution_count": null,
   "metadata": {
    "collapsed": true,
    "deletable": true,
    "editable": true
   },
   "outputs": [],
   "source": []
  }
 ],
 "metadata": {
  "kernelspec": {
   "display_name": "Python 2",
   "language": "python",
   "name": "python2"
  },
  "language_info": {
   "codemirror_mode": {
    "name": "ipython",
    "version": 2
   },
   "file_extension": ".py",
   "mimetype": "text/x-python",
   "name": "python",
   "nbconvert_exporter": "python",
   "pygments_lexer": "ipython2",
   "version": "2.7.12"
  },
  "toc": {
   "colors": {
    "hover_highlight": "#DAA520",
    "running_highlight": "#FF0000",
    "selected_highlight": "#FFD700"
   },
   "moveMenuLeft": true,
   "nav_menu": {
    "height": "98px",
    "width": "252px"
   },
   "navigate_menu": true,
   "number_sections": true,
   "sideBar": true,
   "threshold": 4,
   "toc_cell": false,
   "toc_section_display": "block",
   "toc_window_display": false,
   "widenNotebook": false
  }
 },
 "nbformat": 4,
 "nbformat_minor": 2
}
