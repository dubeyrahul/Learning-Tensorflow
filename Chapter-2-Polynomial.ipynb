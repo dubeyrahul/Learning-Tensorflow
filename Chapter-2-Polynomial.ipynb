{
 "cells": [
  {
   "cell_type": "code",
   "execution_count": 1,
   "metadata": {
    "collapsed": true
   },
   "outputs": [],
   "source": [
    "import tensorflow as tf\n",
    "import numpy as np\n",
    "import matplotlib.pyplot as plt\n",
    "%matplotlib inline"
   ]
  },
  {
   "cell_type": "markdown",
   "metadata": {},
   "source": [
    "### Defining X_train and y_train data for polynomial regression"
   ]
  },
  {
   "cell_type": "code",
   "execution_count": 2,
   "metadata": {
    "collapsed": false
   },
   "outputs": [
    {
     "data": {
      "image/png": "[encoded data removed]",
      "text/plain": [
       "<matplotlib.figure.Figure at 0x7f57eba35d90>"
      ]
     },
     "metadata": {},
     "output_type": "display_data"
    }
   ],
   "source": [
    "learning_rate = 0.01\n",
    "num_epochs = 100\n",
    "\n",
    "# Creating X_train evenly spaced points\n",
    "X_train = np.linspace(-1,1,101)\n",
    "\n",
    "# Creating exponential y-train value\n",
    "num_coeffs = 6 # Degree 5 polynomial and one bias\n",
    "y_train_coeff = [1,2,3,4,5,6]\n",
    "y_train = 0\n",
    "for i in range(num_coeffs):\n",
    "    y_train += y_train_coeff[i]*np.power(X_train, i)\n",
    "\n",
    "# Adding noise to y_train\n",
    "y_train += np.random.randn(*X_train.shape)*1.5\n",
    "\n",
    "plt.scatter(X_train, y_train)\n",
    "plt.show()\n"
   ]
  },
  {
   "cell_type": "markdown",
   "metadata": {},
   "source": [
    "### Describing tensorflow model"
   ]
  },
  {
   "cell_type": "code",
   "execution_count": 7,
   "metadata": {
    "collapsed": false
   },
   "outputs": [
    {
     "name": "stdout",
     "output_type": "stream",
     "text": [
      "[ 0.72941506  1.39538682  4.97697592  4.24860287  2.84027505  6.52269506]\n"
     ]
    }
   ],
   "source": [
    "X = tf.placeholder(\"float\")\n",
    "Y = tf.placeholder(\"float\")\n",
    "\n",
    "# Defining a polynomial model of degree 5\n",
    "def model(X, w):\n",
    "    terms = []\n",
    "    for i in range(num_coeffs):\n",
    "        term = tf.multiply(w[i], tf.pow(X, i))\n",
    "        terms.append(term)\n",
    "    return tf.add_n(terms)\n",
    "\n",
    "# Declaring weight variable\n",
    "w = tf.Variable([0.]*num_coeffs, name = \"parameters\")\n",
    "\n",
    "# Declaring y_model variable\n",
    "Y_model = model(X, w)\n",
    "\n",
    "# Declaring cost variable\n",
    "cost = tf.square(Y - Y_model)\n",
    "\n",
    "# Defining training optimizer\n",
    "train_op = tf.train.GradientDescentOptimizer(learning_rate = learning_rate).minimize(cost)\n",
    "\n",
    "# Initializing the session\n",
    "sess = tf.Session()\n",
    "init = tf.global_variables_initializer()\n",
    "sess.run(init)\n",
    "\n",
    "# Running the epochs\n",
    "for epoch in range(num_epochs):\n",
    "    for (x,y) in zip(X_train, y_train):\n",
    "        sess.run(train_op, feed_dict = {X:x, Y:y})\n",
    "\n",
    "# Extracting fitted w value\n",
    "w_pred = sess.run(w)\n",
    "print(w_pred)\n",
    "\n",
    "sess.close()"
   ]
  },
  {
   "cell_type": "code",
   "execution_count": 8,
   "metadata": {
    "collapsed": false
   },
   "outputs": [
    {
     "data": {
      "text/plain": [
       "[<matplotlib.lines.Line2D at 0x7f57dcf44710>]"
      ]
     },
     "execution_count": 8,
     "metadata": {},
     "output_type": "execute_result"
    },
    {
     "data": {
      "image/png": "[encoded data removed]",
      "text/plain": [
       "<matplotlib.figure.Figure at 0x7f57dcf44050>"
      ]
     },
     "metadata": {},
     "output_type": "display_data"
    }
   ],
   "source": [
    "plt.scatter(X_train, y_train)\n",
    "# Computing y_predicted and plotting it against the curve\n",
    "Y_pred = 0\n",
    "for i in range(num_coeffs):\n",
    "    Y_pred += w_pred[i]*np.power(X_train, i)\n",
    "plt.plot(X_train, Y_pred)"
   ]
  },
  {
   "cell_type": "code",
   "execution_count": null,
   "metadata": {
    "collapsed": true
   },
   "outputs": [],
   "source": []
  }
 ],
 "metadata": {
  "kernelspec": {
   "display_name": "Python 2",
   "language": "python",
   "name": "python2"
  },
  "language_info": {
   "codemirror_mode": {
    "name": "ipython",
    "version": 2
   },
   "file_extension": ".py",
   "mimetype": "text/x-python",
   "name": "python",
   "nbconvert_exporter": "python",
   "pygments_lexer": "ipython2",
   "version": "2.7.12"
  },
  "toc": {
   "colors": {
    "hover_highlight": "#DAA520",
    "running_highlight": "#FF0000",
    "selected_highlight": "#FFD700"
   },
   "moveMenuLeft": true,
   "nav_menu": {
    "height": "62px",
    "width": "252px"
   },
   "navigate_menu": true,
   "number_sections": true,
   "sideBar": true,
   "threshold": 4,
   "toc_cell": false,
   "toc_section_display": "block",
   "toc_window_display": false,
   "widenNotebook": false
  }
 },
 "nbformat": 4,
 "nbformat_minor": 2
}
